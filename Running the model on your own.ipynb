{
 "cells": [
  {
   "cell_type": "markdown",
   "metadata": {},
   "source": [
    "# Running the Model for other players:\n",
    "If you want to run the model for other players, you can run use the code in the file \"votto swing probability\" and make the following changes:\n",
    "```python\n",
    "playerid_lookup('votto','joey')\n",
    "```\n",
    "Here, you can input the name of the player you want to run the model on to get there MLBam key. This will return a dataframe with several different IDs for the \n",
    "player, make sure to use the one under the column 'key_mlbam' for the next step.\n",
    "\n",
    "Once you have the ID you need, put it in place of Votto's ID in this line:\n",
    "```python\n",
    "data0 = statcast_batter('2015-03-15','2020-09-08',458015)\n",
    "```\n",
    "This will get the pitch-by-pitch data for the specified player that will be used to train the model. After this, you should be able to run the rest of the code\n",
    "with no additional changes."
   ]
  }
 ],
 "metadata": {
  "kernelspec": {
   "display_name": "Python 3",
   "language": "python",
   "name": "python3"
  },
  "language_info": {
   "codemirror_mode": {
    "name": "ipython",
    "version": 3
   },
   "file_extension": ".py",
   "mimetype": "text/x-python",
   "name": "python",
   "nbconvert_exporter": "python",
   "pygments_lexer": "ipython3",
   "version": "3.7.3"
  }
 },
 "nbformat": 4,
 "nbformat_minor": 2
}
